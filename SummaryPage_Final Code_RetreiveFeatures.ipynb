{
 "cells": [
  {
   "cell_type": "code",
   "execution_count": null,
   "metadata": {
    "collapsed": true,
    "slideshow": {
     "slide_type": "-"
    }
   },
   "outputs": [],
   "source": [
    "# SUMMARY PAGE FOR EXTRACTING TEXT FIELDS FROM EEOC ARTICLES"
   ]
  },
  {
   "cell_type": "code",
   "execution_count": 1,
   "metadata": {
    "collapsed": true
   },
   "outputs": [],
   "source": [
    "# Imports\n",
    "\n",
    "import pandas as pd\n",
    "import nltk\n",
    "import urllib \n",
    "from bs4 import BeautifulSoup\n",
    "import re\n",
    "import os \n",
    "import string\n",
    "from nltk import word_tokenize\n",
    "from nltk import wordnet as wn\n"
   ]
  },
  {
   "cell_type": "code",
   "execution_count": 6,
   "metadata": {
    "collapsed": true
   },
   "outputs": [],
   "source": [
    "# Import ccirelli packages\n",
    "os.chdir('/Users/ccirelli2/Public/Python Programing Docs/Modules')\n",
    "\n",
    "import ccirelli2_general_operations\n",
    "import ccirelli2_general_text_analysis_module"
   ]
  },
  {
   "cell_type": "code",
   "execution_count": 7,
   "metadata": {
    "collapsed": true
   },
   "outputs": [],
   "source": [
    "os.chdir('/Users/ccirelli2/Public/Python Programing Docs/Projects/Web Scraping Project - EEOC Articles/Modules Specific to This Project')\n",
    "\n",
    "import ccirelli2_EEOC_industry_classifier\n",
    "import ccirelli2_EEOC_text_retreival_functions\n"
   ]
  },
  {
   "cell_type": "code",
   "execution_count": 3,
   "metadata": {},
   "outputs": [
    {
     "name": "stdout",
     "output_type": "stream",
     "text": [
      "5\n"
     ]
    }
   ],
   "source": [
    "\n",
    "# Get List Files\n",
    "\n",
    "Chdir = os.chdir(r'/Users/ccirelli2/Public/Python Programing Docs/Projects/Web Scraping Project - EEOC Articles/EEOC Articles/')\n",
    "Dir_list = ccirelli2_general_operations.get_File_dir_list()\n",
    "\n",
    "print(len(Dir_list[:5]))"
   ]
  },
  {
   "cell_type": "code",
   "execution_count": 24,
   "metadata": {},
   "outputs": [
    {
     "name": "stdout",
     "output_type": "stream",
     "text": [
      "5\n"
     ]
    }
   ],
   "source": [
    "# Get Article Date\n",
    "\n",
    "Article_dates = ccirelli2_EEOC_text_retreival_functions.get_Dates(Dir_list[:5])\n",
    "\n",
    "print(len(Article_dates))"
   ]
  },
  {
   "cell_type": "code",
   "execution_count": 26,
   "metadata": {},
   "outputs": [
    {
     "name": "stdout",
     "output_type": "stream",
     "text": [
      "5\n"
     ]
    }
   ],
   "source": [
    "# Get Article Title\n",
    "Article_titles = ccirelli2_EEOC_text_retreival_functions.get_Titles(Dir_list[:5])\n",
    "\n",
    "print(len(Article_titles))"
   ]
  },
  {
   "cell_type": "code",
   "execution_count": 27,
   "metadata": {},
   "outputs": [
    {
     "name": "stdout",
     "output_type": "stream",
     "text": [
      "5\n"
     ]
    }
   ],
   "source": [
    "# Get Company Name\n",
    "Article_company_name = ccirelli2_EEOC_text_retreival_functions.get_Company_Name(Dir_list[:5])\n",
    "\n",
    "print(len(Article_company_name))"
   ]
  },
  {
   "cell_type": "code",
   "execution_count": 28,
   "metadata": {},
   "outputs": [
    {
     "name": "stdout",
     "output_type": "stream",
     "text": [
      "5\n"
     ]
    }
   ],
   "source": [
    "# Location\n",
    "\n",
    "Article_company_location = ccirelli2_EEOC_text_retreival_functions.get_Location(Dir_list[:5])\n",
    "\n",
    "print(len(Article_company_location))"
   ]
  },
  {
   "cell_type": "code",
   "execution_count": 29,
   "metadata": {},
   "outputs": [
    {
     "name": "stdout",
     "output_type": "stream",
     "text": [
      "5\n"
     ]
    }
   ],
   "source": [
    "# Dollar Value\n",
    "\n",
    "Article_company_loss_value = ccirelli2_EEOC_text_retreival_functions.get_loss_value(Dir_list[:5])\n",
    "\n",
    "print(len(Article_company_loss_value))"
   ]
  },
  {
   "cell_type": "code",
   "execution_count": 4,
   "metadata": {},
   "outputs": [],
   "source": [
    "def predict_industry_pipeline(Dir_list):\n",
    "\n",
    "    Industry_prediction_list = []\n",
    "    \n",
    "    for x in Dir_list:\n",
    "        File = open(x, 'rb')\n",
    "        Text_1 = File.read()\n",
    "        Text_file = str(Text_1)\n",
    "        Clean_text = ccirelli2_general_text_analysis_module.text_cleaning_pipeline_Single_Text_pre_tokenize(Text_file)\n",
    "        Industry_Dictionary = ccirelli2_EEOC_industry_classifier.Create_Industry_Dictionary()\n",
    "        Industry_classifier = ccirelli2_EEOC_industry_classifier.Get_Text_Industry_Count(Clean_text, Industry_Dictionary)\n",
    "        Industry_prediction = ccirelli2_EEOC_industry_classifier.Industry_prediction(Industry_classifier)\n",
    "        Industry_prediction_list.append(Industry_prediction)\n",
    "        \n",
    "    return Industry_prediction_list\n",
    "\n",
    "\n",
    "\n"
   ]
  },
  {
   "cell_type": "code",
   "execution_count": 8,
   "metadata": {},
   "outputs": [],
   "source": [
    "# Create DataFrame\n",
    "\n",
    "os.chdir('/Users/ccirelli2/Public/Python Programing Docs/Projects/Web Scraping Project - EEOC Articles')\n",
    "\n",
    "\n",
    "def get_DataFrame_EEOC_Data(Dir_list):\n",
    "        # Dictionary\n",
    "        Dict = {}\n",
    "        # Arrays\n",
    "        Dict['File_Name'] = [x for x in Dir_list]\n",
    "        Dict['Article_Date'] = ccirelli2_EEOC_text_retreival_functions.get_Dates(Dir_list)\n",
    "        Dict['Article_title'] = ccirelli2_EEOC_text_retreival_functions.get_Titles(Dir_list)\n",
    "        Dict['Company_name'] = ccirelli2_EEOC_text_retreival_functions.get_Company_Name(Dir_list)\n",
    "        Dict['Company_location'] = ccirelli2_EEOC_text_retreival_functions.get_Location(Dir_list)\n",
    "        Dict['Company_loss'] = ccirelli2_EEOC_text_retreival_functions.get_loss_value(Dir_list)\n",
    "        Dict['Company_Industry'] = predict_industry_pipeline(Dir_list)\n",
    "        # Create Dataframe\n",
    "        df = pd.DataFrame(Dict)\n",
    "        return df\n",
    "\n",
    "Dataframe_results = get_DataFrame_EEOC_Data(Dir_list[:100])\n",
    "\n",
    "ccirelli2_general_operations.write_to_excel(Dataframe_results, 'EEOC Article Data_01.07.2018')\n",
    "\n"
   ]
  },
  {
   "cell_type": "code",
   "execution_count": null,
   "metadata": {
    "collapsed": true
   },
   "outputs": [],
   "source": [
    "\n",
    "\n",
    "\n",
    "\n",
    "\n",
    "\n"
   ]
  }
 ],
 "metadata": {
  "kernelspec": {
   "display_name": "Python 3",
   "language": "python",
   "name": "python3"
  },
  "language_info": {
   "codemirror_mode": {
    "name": "ipython",
    "version": 3
   },
   "file_extension": ".py",
   "mimetype": "text/x-python",
   "name": "python",
   "nbconvert_exporter": "python",
   "pygments_lexer": "ipython3",
   "version": "3.6.1"
  }
 },
 "nbformat": 4,
 "nbformat_minor": 2
}
